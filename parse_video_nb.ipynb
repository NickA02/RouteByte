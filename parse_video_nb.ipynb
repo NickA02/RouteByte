{
 "cells": [
  {
   "cell_type": "code",
   "execution_count": 2,
   "metadata": {},
   "outputs": [
    {
     "data": {
      "text/html": [
       "<table border=\"1\" class=\"dataframe\">\n",
       "    <thead>\n",
       "        <tr>\n",
       "            <th>#</th> <th>pff_PENALTY</th> <th>pff_SACK</th> <th>pff_PASSROUTETARGET</th> <th>pff_PASSPATTERNBASIC</th> <th>pff_PASSPATTERNBYPLAYER</th> <th>pff_PASSRESULT</th>\n",
       "        </tr>\n",
       "    </thead>\n",
       "    <tbody>\n",
       "        <tr>\n",
       "            <td>1   </td> <td>nan        </td> <td>nan     </td> <td>0(-2)              </td> <td>0; 9; 6; 9; 0       </td> <td>ATL 40 0(0); ATL 17 9z; ATL 46 26(5); ATL 05 9z; ATL 84  ...</td> <td>COMPLETE      </td>\n",
       "        </tr>\n",
       "        <tr>\n",
       "            <td>6   </td> <td>nan        </td> <td>nan     </td> <td>6(5)               </td> <td>6; 3; H2; 6; 6      </td> <td>ATL 12 6(5); ATL 85 1; ATL 25 h2(-8); ATL 35 6o(8); ATL  ...</td> <td>COMPLETE      </td>\n",
       "        </tr>\n",
       "        <tr>\n",
       "            <td>8   </td> <td>nan        </td> <td>nan     </td> <td>k1                 </td> <td>X; X; H5; 3; 7      </td> <td>ATL 05 xo(11); ATL 80 xg(-3); ATL 35 flh31(-5); ATL 85 k ...</td> <td>COMPLETE      </td>\n",
       "        </tr>\n",
       "        <tr>\n",
       "            <td>9   </td> <td>nan        </td> <td>nan     </td> <td>nan                </td> <td>4; -; H8; X; 3      </td> <td>ATL 17 4(14); ATL 85 k; ATL 25 frh8(-3); ATL 46 klxu(-3) ...</td> <td>RUN           </td>\n",
       "        </tr>\n",
       "        <tr>\n",
       "            <td>11  </td> <td>nan        </td> <td>nan     </td> <td>flh1(-3)           </td> <td>X; X; H1; 3; x7     </td> <td>ATL 12 xo(17); ATL 85 krxu(-5); ATL 84 flh1(-3); ATL 80  ...</td> <td>COMPLETE      </td>\n",
       "        </tr>\n",
       "        <tr>\n",
       "            <td>12  </td> <td>nan        </td> <td>nan     </td> <td>frh2(-4)           </td> <td>-; H2; X; 4; 9      </td> <td>ATL 46 k; ATL 84 frh2(-4); ATL 40 klxu(-3); ATL 05 4o(17 ...</td> <td>COMPLETE      </td>\n",
       "        </tr>\n",
       "        <tr>\n",
       "            <td>14  </td> <td>nan        </td> <td>nan     </td> <td>4(11)              </td> <td>X; 4; X; H3; 4      </td> <td>ATL 14 xo(22); ATL 17 4o(16); ATL 46 krxu(-3); ATL 25 fl ...</td> <td>INCOMPLETE    </td>\n",
       "        </tr>\n",
       "        <tr>\n",
       "            <td>16  </td> <td>nan        </td> <td>nan     </td> <td>6o(6)              </td> <td>6; 2; 3; H4; 6      </td> <td>ATL 17 6(6); ATL 84 2(6); ATL 85 3(6); ATL 25 krh21(1);  ...</td> <td>COMPLETE      </td>\n",
       "        </tr>\n",
       "        <tr>\n",
       "            <td>21  </td> <td>nan        </td> <td>nan     </td> <td>3(4)               </td> <td>3; 3; H2; 4; 6      </td> <td>ATL 14 3(15); ATL 05 3(4); ATL 84 krh2(-7); ATL 46 4(14) ...</td> <td>COMPLETE      </td>\n",
       "        </tr>\n",
       "        <tr>\n",
       "            <td>23  </td> <td>nan        </td> <td>nan     </td> <td>frh21(-3)          </td> <td>-; H4; X; 3; 7      </td> <td>ATL 85 k; ATL 25 frh21(-3); ATL 46 klxu(-3); ATL 05 3(20 ...</td> <td>COMPLETE      </td>\n",
       "        </tr>\n",
       "    </tbody>\n",
       "</table>\n",
       "<p>... (20 rows omitted)</p>"
      ],
      "text/plain": [
       "#    | pff_PENALTY | pff_SACK | pff_PASSROUTETARGET | pff_PASSPATTERNBASIC | pff_PASSPATTERNBYPLAYER                                      | pff_PASSRESULT\n",
       "1    | nan         | nan      | 0(-2)               | 0; 9; 6; 9; 0        | ATL 40 0(0); ATL 17 9z; ATL 46 26(5); ATL 05 9z; ATL 84  ... | COMPLETE\n",
       "6    | nan         | nan      | 6(5)                | 6; 3; H2; 6; 6       | ATL 12 6(5); ATL 85 1; ATL 25 h2(-8); ATL 35 6o(8); ATL  ... | COMPLETE\n",
       "8    | nan         | nan      | k1                  | X; X; H5; 3; 7       | ATL 05 xo(11); ATL 80 xg(-3); ATL 35 flh31(-5); ATL 85 k ... | COMPLETE\n",
       "9    | nan         | nan      | nan                 | 4; -; H8; X; 3       | ATL 17 4(14); ATL 85 k; ATL 25 frh8(-3); ATL 46 klxu(-3) ... | RUN\n",
       "11   | nan         | nan      | flh1(-3)            | X; X; H1; 3; x7      | ATL 12 xo(17); ATL 85 krxu(-5); ATL 84 flh1(-3); ATL 80  ... | COMPLETE\n",
       "12   | nan         | nan      | frh2(-4)            | -; H2; X; 4; 9       | ATL 46 k; ATL 84 frh2(-4); ATL 40 klxu(-3); ATL 05 4o(17 ... | COMPLETE\n",
       "14   | nan         | nan      | 4(11)               | X; 4; X; H3; 4       | ATL 14 xo(22); ATL 17 4o(16); ATL 46 krxu(-3); ATL 25 fl ... | INCOMPLETE\n",
       "16   | nan         | nan      | 6o(6)               | 6; 2; 3; H4; 6       | ATL 17 6(6); ATL 84 2(6); ATL 85 3(6); ATL 25 krh21(1);  ... | COMPLETE\n",
       "21   | nan         | nan      | 3(4)                | 3; 3; H2; 4; 6       | ATL 14 3(15); ATL 05 3(4); ATL 84 krh2(-7); ATL 46 4(14) ... | COMPLETE\n",
       "23   | nan         | nan      | frh21(-3)           | -; H4; X; 3; 7       | ATL 85 k; ATL 25 frh21(-3); ATL 46 klxu(-3); ATL 05 3(20 ... | COMPLETE\n",
       "... (20 rows omitted)"
      ]
     },
     "execution_count": 2,
     "metadata": {},
     "output_type": "execute_result"
    }
   ],
   "source": [
    "from datascience import *\n",
    "\n",
    "Table.read_table('film/Arizona Defense.csv').where('pff_RUNPASS', 'P').select('#', 'pff_PENALTY', 'pff_SACK', 'pff_PASSROUTETARGET', 'pff_PASSPATTERNBASIC', 'pff_PASSPATTERNBYPLAYER', 'pff_PASSRESULT')\n"
   ]
  },
  {
   "cell_type": "code",
   "execution_count": 3,
   "metadata": {},
   "outputs": [],
   "source": [
    "\"\"\"VideoHandler Module\"\"\"\n",
    "import cv2 as cv\n",
    "import numpy as np\n",
    "import os\n",
    "\n",
    "\n",
    "class VideoHandler:\n",
    "    video_player: cv.VideoCapture\n",
    "    currentFrame: np.ndarray\n",
    "    frame_number: int = 0\n",
    "    isPlaying: bool = True\n",
    "\n",
    "\n",
    "    def __init__(self, videoPath: str = \"film/22DP BUF OFF vs CIN 01-22-23\"):\n",
    "        if not os.path.exists(f\"{videoPath}.mp4\"):\n",
    "            raise Exception(f\"Video path {videoPath}.mp4 not found\")\n",
    "        self.video_player = cv.VideoCapture(f\"{videoPath}.mp4\")\n",
    "        if not self.video_player.isOpened():\n",
    "            raise Exception(\"Error: Could not open video file\")\n",
    "        self.feed()\n",
    "\n",
    "    \n",
    "    def startFeed(self):\n",
    "        self.isPlaying = True\n",
    "\n",
    "    def pauseFeed(self):\n",
    "        self.isPlaying = False\n",
    "    \n",
    "    def feed(self) -> int:\n",
    "        if self.isPlaying:\n",
    "            # Capture frame-by-frame\n",
    "            ret, frame = self.video_player.read()\n",
    "            # if frame is read correctly ret is True\n",
    "            if not ret:\n",
    "                print(\"Can't receive frame (stream end?). Exiting ...\")\n",
    "                return\n",
    "            self.frame_number += 1\n",
    "            self.currentFrame = frame\n",
    "        return self.frame_number\n",
    "\n",
    "            \n",
    "    def skip_to_frame(self, frame_number: int):\n",
    "        if frame_number < 0 or frame_number > self.video_player.get(cv.CAP_PROP_FRAME_COUNT):\n",
    "            print(frame_number)\n",
    "            print(self.video_player.get(cv.CAP_PROP_FRAME_COUNT))\n",
    "            raise Exception(\"Error: Frame Index Out of Bounds\")\n",
    "        self.video_player.set(cv.CAP_PROP_POS_FRAMES, frame_number)\n",
    "        self.frame_number = frame_number\n",
    "        if not self.isPlaying:\n",
    "            self.isPlaying = True\n",
    "            self.feed()\n",
    "            self.isPlaying = False\n",
    "            return\n",
    "        self.feed()\n",
    "    \n",
    "    def set_video(self, path: str):\n",
    "        if self.video_player.isOpened():\n",
    "            self.video_player.release()\n",
    "        if not path.endswith(\".mp4\"):\n",
    "            raise Exception(\"Error: Invalid Data Type for video\")\n",
    "        self.video_player = cv.VideoCapture(path)\n",
    "        if not self.video_player.isOpened():\n",
    "            raise Exception(\"Error: Could not open video file\")\n",
    "        self.skip_to_frame(0)\n",
    "        self.feed()\n",
    "    \n",
    "    def getCurrentFrame(self) -> np.ndarray:\n",
    "        \"\"\"Retrieves current frame\"\"\"\n",
    "        cf = self.currentFrame\n",
    "        return cf\n",
    "\n",
    "\n",
    "\n",
    "\n",
    "\n",
    "\n",
    "\n",
    "\n",
    "\n",
    "\n",
    "    \n",
    "        "
   ]
  },
  {
   "cell_type": "code",
   "execution_count": 4,
   "metadata": {},
   "outputs": [],
   "source": [
    "import cv2 as cv\n",
    "def new_clip(play_number, v, cam=None):\n",
    "        \"\"\"Function that ends current clip and begins a new one\"\"\"\n",
    "        if  cam != None:\n",
    "            cam.release()\n",
    "\n",
    "        #Create new clip for next view\n",
    "        return cv.VideoWriter(\n",
    "            f\"split_clips/buf/BUF vs CIN {play_number}.mp4\",\n",
    "            cv.VideoWriter_fourcc(*'mp4v'),\n",
    "            60,\n",
    "            (v.currentFrame.shape[1], v.currentFrame.shape[0])\n",
    "            )\n",
    "\n",
    "def add_frame(cam, frame: np.array):\n",
    "        \"\"\"Function that adds a given frame to the clip\"\"\"\n",
    "        try:\n",
    "            cam.write(frame)\n",
    "        except:\n",
    "            print(\"Video not open. Done recording clips?\")"
   ]
  },
  {
   "cell_type": "code",
   "execution_count": 8,
   "metadata": {},
   "outputs": [
    {
     "data": {
      "text/plain": [
       "64"
      ]
     },
     "execution_count": 8,
     "metadata": {},
     "output_type": "execute_result"
    }
   ],
   "source": [
    "import xml.etree.ElementTree as ET\n",
    "full_game_tree = ET.parse(\"film/22DP BUF OFF vs CIN 01-22-23.xchange\")\n",
    "\n",
    "clips = [x.text for x in full_game_tree.findall(\"Plays/Play/Views/View/MarkIn\")]\n",
    "durs = [x.text for x in full_game_tree.findall(\"Plays/Play/Views/View/Duration\")]\n",
    "len(durs)\n"
   ]
  },
  {
   "cell_type": "code",
   "execution_count": 2,
   "metadata": {},
   "outputs": [
    {
     "ename": "KeyboardInterrupt",
     "evalue": "",
     "output_type": "error",
     "traceback": [
      "\u001b[0;31m---------------------------------------------------------------------------\u001b[0m",
      "\u001b[0;31mKeyboardInterrupt\u001b[0m                         Traceback (most recent call last)",
      "\u001b[1;32m/Users/nicholasalmy/FilmView/ai.ipynb Cell 5\u001b[0m line \u001b[0;36m1\n\u001b[0;32m----> <a href='vscode-notebook-cell:/Users/nicholasalmy/FilmView/ai.ipynb#W3sZmlsZQ%3D%3D?line=0'>1</a>\u001b[0m v\u001b[39m=\u001b[39m VideoHandler()\n\u001b[1;32m      <a href='vscode-notebook-cell:/Users/nicholasalmy/FilmView/ai.ipynb#W3sZmlsZQ%3D%3D?line=1'>2</a>\u001b[0m first \u001b[39m=\u001b[39m clips\u001b[39m.\u001b[39mpop(\u001b[39m0\u001b[39m)\n\u001b[1;32m      <a href='vscode-notebook-cell:/Users/nicholasalmy/FilmView/ai.ipynb#W3sZmlsZQ%3D%3D?line=2'>3</a>\u001b[0m \u001b[39mwhile\u001b[39;00m v\u001b[39m.\u001b[39mframe_number \u001b[39m<\u001b[39m \u001b[39mint\u001b[39m(first):\n",
      "\u001b[1;32m/Users/nicholasalmy/FilmView/ai.ipynb Cell 5\u001b[0m line \u001b[0;36m1\n\u001b[0;32m----> <a href='vscode-notebook-cell:/Users/nicholasalmy/FilmView/ai.ipynb#W3sZmlsZQ%3D%3D?line=0'>1</a>\u001b[0m v\u001b[39m=\u001b[39m VideoHandler()\n\u001b[1;32m      <a href='vscode-notebook-cell:/Users/nicholasalmy/FilmView/ai.ipynb#W3sZmlsZQ%3D%3D?line=1'>2</a>\u001b[0m first \u001b[39m=\u001b[39m clips\u001b[39m.\u001b[39mpop(\u001b[39m0\u001b[39m)\n\u001b[1;32m      <a href='vscode-notebook-cell:/Users/nicholasalmy/FilmView/ai.ipynb#W3sZmlsZQ%3D%3D?line=2'>3</a>\u001b[0m \u001b[39mwhile\u001b[39;00m v\u001b[39m.\u001b[39mframe_number \u001b[39m<\u001b[39m \u001b[39mint\u001b[39m(first):\n",
      "File \u001b[0;32m_pydevd_bundle/pydevd_cython.pyx:1457\u001b[0m, in \u001b[0;36m_pydevd_bundle.pydevd_cython.SafeCallWrapper.__call__\u001b[0;34m()\u001b[0m\n",
      "File \u001b[0;32m_pydevd_bundle/pydevd_cython.pyx:701\u001b[0m, in \u001b[0;36m_pydevd_bundle.pydevd_cython.PyDBFrame.trace_dispatch\u001b[0;34m()\u001b[0m\n",
      "File \u001b[0;32m_pydevd_bundle/pydevd_cython.pyx:1152\u001b[0m, in \u001b[0;36m_pydevd_bundle.pydevd_cython.PyDBFrame.trace_dispatch\u001b[0;34m()\u001b[0m\n",
      "File \u001b[0;32m_pydevd_bundle/pydevd_cython.pyx:1135\u001b[0m, in \u001b[0;36m_pydevd_bundle.pydevd_cython.PyDBFrame.trace_dispatch\u001b[0;34m()\u001b[0m\n",
      "File \u001b[0;32m_pydevd_bundle/pydevd_cython.pyx:312\u001b[0m, in \u001b[0;36m_pydevd_bundle.pydevd_cython.PyDBFrame.do_wait_suspend\u001b[0;34m()\u001b[0m\n",
      "File \u001b[0;32m~/anaconda3/envs/FilmViewer/lib/python3.10/site-packages/debugpy/_vendored/pydevd/pydevd.py:2070\u001b[0m, in \u001b[0;36mPyDB.do_wait_suspend\u001b[0;34m(self, thread, frame, event, arg, exception_type)\u001b[0m\n\u001b[1;32m   2067\u001b[0m             from_this_thread\u001b[39m.\u001b[39mappend(frame_custom_thread_id)\n\u001b[1;32m   2069\u001b[0m     \u001b[39mwith\u001b[39;00m \u001b[39mself\u001b[39m\u001b[39m.\u001b[39m_threads_suspended_single_notification\u001b[39m.\u001b[39mnotify_thread_suspended(thread_id, thread, stop_reason):\n\u001b[0;32m-> 2070\u001b[0m         keep_suspended \u001b[39m=\u001b[39m \u001b[39mself\u001b[39;49m\u001b[39m.\u001b[39;49m_do_wait_suspend(thread, frame, event, arg, suspend_type, from_this_thread, frames_tracker)\n\u001b[1;32m   2072\u001b[0m frames_list \u001b[39m=\u001b[39m \u001b[39mNone\u001b[39;00m\n\u001b[1;32m   2074\u001b[0m \u001b[39mif\u001b[39;00m keep_suspended:\n\u001b[1;32m   2075\u001b[0m     \u001b[39m# This means that we should pause again after a set next statement.\u001b[39;00m\n",
      "File \u001b[0;32m~/anaconda3/envs/FilmViewer/lib/python3.10/site-packages/debugpy/_vendored/pydevd/pydevd.py:2106\u001b[0m, in \u001b[0;36mPyDB._do_wait_suspend\u001b[0;34m(self, thread, frame, event, arg, suspend_type, from_this_thread, frames_tracker)\u001b[0m\n\u001b[1;32m   2103\u001b[0m         \u001b[39mself\u001b[39m\u001b[39m.\u001b[39m_call_input_hook()\n\u001b[1;32m   2105\u001b[0m     \u001b[39mself\u001b[39m\u001b[39m.\u001b[39mprocess_internal_commands()\n\u001b[0;32m-> 2106\u001b[0m     time\u001b[39m.\u001b[39;49msleep(\u001b[39m0.01\u001b[39;49m)\n\u001b[1;32m   2108\u001b[0m \u001b[39mself\u001b[39m\u001b[39m.\u001b[39mcancel_async_evaluation(get_current_thread_id(thread), \u001b[39mstr\u001b[39m(\u001b[39mid\u001b[39m(frame)))\n\u001b[1;32m   2110\u001b[0m \u001b[39m# process any stepping instructions\u001b[39;00m\n",
      "\u001b[0;31mKeyboardInterrupt\u001b[0m: "
     ]
    }
   ],
   "source": [
    "v= VideoHandler()\n",
    "first = clips.pop(0)\n",
    "while v.frame_number < int(first):\n",
    "    v.feed()\n",
    "clip_num = 1\n",
    "cam = None\n",
    "for outmark in clips:\n",
    "    cam: cv.VideoWriter = new_clip(clip_num, v, cam)\n",
    "    while v.frame_number < int(outmark):\n",
    "        add_frame(cam, v.currentFrame)\n",
    "        v.feed()\n",
    "    clip_num += 1\n",
    "\n",
    "cam: cv.VideoWriter = new_clip(clip_num, v, cam)\n",
    "while v.feed():\n",
    "    add_frame(cam,v.currentFrame)\n",
    "cam.release()\n",
    "        "
   ]
  },
  {
   "cell_type": "code",
   "execution_count": null,
   "metadata": {},
   "outputs": [],
   "source": []
  }
 ],
 "metadata": {
  "kernelspec": {
   "display_name": "FilmViewer",
   "language": "python",
   "name": "python3"
  },
  "language_info": {
   "codemirror_mode": {
    "name": "ipython",
    "version": 3
   },
   "file_extension": ".py",
   "mimetype": "text/x-python",
   "name": "python",
   "nbconvert_exporter": "python",
   "pygments_lexer": "ipython3",
   "version": "3.10.9"
  },
  "orig_nbformat": 4
 },
 "nbformat": 4,
 "nbformat_minor": 2
}
